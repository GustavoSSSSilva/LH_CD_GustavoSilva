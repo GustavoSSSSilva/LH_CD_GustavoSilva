{
 "cells": [
  {
   "cell_type": "code",
   "execution_count": 7,
   "id": "805fb7cd-8963-4a3d-aecd-6b9b7dc655c2",
   "metadata": {},
   "outputs": [
    {
     "name": "stdout",
     "output_type": "stream",
     "text": [
      "\n",
      "--- Análise para o filme: 'The Godfather' ---\n",
      "Nota IMDB real de The Godfather: 9.2\n",
      "Nota IMDB prevista pelo modelo para The Godfather: 9.06\n",
      "\n",
      "--- Análise para o filme: 'Pulp Fiction' ---\n",
      "Nota IMDB real de Pulp Fiction: 8.9\n",
      "Nota IMDB prevista pelo modelo para Pulp Fiction: 8.89\n",
      "Erro: O filme 'Filme Inexistente' não foi encontrado no dataset.\n"
     ]
    }
   ],
   "source": [
    "import pandas as pd\n",
    "import pickle\n",
    "import numpy as np\n",
    "\n",
    "# Carregar o modelo salvo\n",
    "with open('modelo_preditivo_imdb.pkl', 'rb') as file:\n",
    "    model_pipeline = pickle.load(file)\n",
    "\n",
    "# Carregar o dataset original para obter os dados do filme\n",
    "df_original = pd.read_csv('desafio_indicium_imdb.csv')\n",
    "\n",
    "# Criar coluna Stars_all (igual ao que foi feito no treino)\n",
    "star_cols = [col for col in df_original.columns if col.lower().startswith('star')]\n",
    "if star_cols:\n",
    "    df_original['Stars_all'] = df_original[star_cols].fillna('').agg(' '.join, axis=1)\n",
    "else:\n",
    "    df_original['Stars_all'] = ''\n",
    "\n",
    "\n",
    "def prever_nota_filme(titulo_filme):\n",
    "    \"\"\"\n",
    "    Prevê a nota IMDB para um filme com base em seu título.\n",
    "    \"\"\"\n",
    "    filme_teste = df_original[df_original['Series_Title'] == titulo_filme].copy()\n",
    "\n",
    "    if filme_teste.empty:\n",
    "        print(f\"Erro: O filme '{titulo_filme}' não foi encontrado no dataset.\")\n",
    "        return\n",
    "\n",
    "    # Tratar Gross\n",
    "    gross_value = float(filme_teste['Gross'].iloc[0].replace(',', '')) if pd.notna(filme_teste['Gross'].iloc[0]) else 0.0\n",
    "    genre_main_value = filme_teste['Genre'].iloc[0].split(',')[0].strip()\n",
    "\n",
    "    # Preparar as features exatamente como no treino\n",
    "    filme_teste_features_clean = pd.DataFrame({\n",
    "        'Genre_main': [genre_main_value],\n",
    "        'Director': [filme_teste['Director'].iloc[0]],\n",
    "        'Gross_log': [np.log1p(gross_value)],\n",
    "        'No_of_Votes': [filme_teste['No_of_Votes'].iloc[0]],\n",
    "        'Meta_score': [filme_teste['Meta_score'].iloc[0]],\n",
    "        'Overview': [filme_teste['Overview'].iloc[0]],\n",
    "        'Stars_all': [filme_teste['Stars_all'].iloc[0]]\n",
    "    })\n",
    "\n",
    "    # Fazer a previsão\n",
    "    previsao_nota = model_pipeline.predict(filme_teste_features_clean)\n",
    "\n",
    "    # Imprimir o resultado\n",
    "    print(f\"\\n--- Análise para o filme: '{titulo_filme}' ---\")\n",
    "    print(f\"Nota IMDB real de {titulo_filme}: {filme_teste['IMDB_Rating'].iloc[0]}\")\n",
    "    print(f\"Nota IMDB prevista pelo modelo para {titulo_filme}: {previsao_nota[0]:.2f}\")\n",
    "\n",
    "\n",
    "# Exemplo de uso da função\n",
    "prever_nota_filme('The Godfather')\n",
    "\n",
    "prever_nota_filme('Pulp Fiction')\n",
    "\n",
    "prever_nota_filme('Filme Inexistente')"
   ]
  },
  {
   "cell_type": "code",
   "execution_count": null,
   "id": "9e7b6199-d73b-45f4-ad85-b0c1d56117e6",
   "metadata": {},
   "outputs": [],
   "source": []
  }
 ],
 "metadata": {
  "kernelspec": {
   "display_name": "Python 3 (ipykernel)",
   "language": "python",
   "name": "python3"
  },
  "language_info": {
   "codemirror_mode": {
    "name": "ipython",
    "version": 3
   },
   "file_extension": ".py",
   "mimetype": "text/x-python",
   "name": "python",
   "nbconvert_exporter": "python",
   "pygments_lexer": "ipython3",
   "version": "3.13.7"
  }
 },
 "nbformat": 4,
 "nbformat_minor": 5
}
